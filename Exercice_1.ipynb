{
  "nbformat": 4,
  "nbformat_minor": 0,
  "metadata": {
    "colab": {
      "provenance": []
    },
    "kernelspec": {
      "name": "python3",
      "display_name": "Python 3"
    }
  },
  "cells": [
    {
      "cell_type": "markdown",
      "metadata": {
        "id": "HSEC4mEySWcZ"
      },
      "source": [
        "# Partie I\n",
        "\n",
        "Objectifs :\n",
        "- Créer un jeu de données ;\n",
        "- Mettre le texte en minuscule ;\n",
        "- Suppression de la ponctuation ;\n",
        "- Séparation en tokens ;\n",
        "- Visualisation du vocabulaire des articles classé par ordre décroissant avec un barplot ;\n",
        "- Suppression des stopwords ;\n",
        "- Visualisation du vocabulaire des articles classé par ordre décroissant avec un barplot après supression des stopwords ;\n",
        "- Création d'une version avec stemming du document ;\n",
        "- Visualisation du vocabulaire des articles classé par ordre décroissant avec un barplot après le stemming ;\n",
        "- Création d'une version avec lemmatization du document ;\n",
        "- Visualisation du vocabulaire des articles classé par ordre décroissant avec un barplot après la lemmatization ;\n"
      ]
    },
    {
      "cell_type": "markdown",
      "metadata": {
        "id": "YmmcT3k5ZrQV"
      },
      "source": [
        "## Importations des packages"
      ]
    },
    {
      "cell_type": "code",
      "metadata": {
        "colab": {
          "base_uri": "https://localhost:8080/"
        },
        "id": "sXPNc6P3ZuEq",
        "outputId": "67f3aa18-1b5a-44f1-8ad4-6e5002cbe980"
      },
      "source": [
        "from nltk.tokenize import word_tokenize\n",
        "from nltk.text import Text\n",
        "from nltk.stem.lancaster import LancasterStemmer\n",
        "from nltk.stem import WordNetLemmatizer\n",
        "import nltk\n",
        "\n",
        "import numpy as np\n",
        "import pandas as pd\n",
        "import matplotlib.pyplot as plt\n",
        "\n",
        "nltk.download('punkt')\n",
        "nltk.download('stopwords')\n",
        "nltk.download('wordnet')\n",
        "nltk.download('averaged_perceptron_tagger')"
      ],
      "execution_count": 1,
      "outputs": [
        {
          "output_type": "stream",
          "name": "stderr",
          "text": [
            "[nltk_data] Downloading package punkt to /root/nltk_data...\n",
            "[nltk_data]   Unzipping tokenizers/punkt.zip.\n",
            "[nltk_data] Downloading package stopwords to /root/nltk_data...\n",
            "[nltk_data]   Unzipping corpora/stopwords.zip.\n",
            "[nltk_data] Downloading package wordnet to /root/nltk_data...\n",
            "[nltk_data] Downloading package averaged_perceptron_tagger to\n",
            "[nltk_data]     /root/nltk_data...\n",
            "[nltk_data]   Unzipping taggers/averaged_perceptron_tagger.zip.\n"
          ]
        },
        {
          "output_type": "execute_result",
          "data": {
            "text/plain": [
              "True"
            ]
          },
          "metadata": {},
          "execution_count": 1
        }
      ]
    },
    {
      "cell_type": "markdown",
      "metadata": {
        "id": "CZJ8Idw4Zx8T"
      },
      "source": [
        "## Importations des données\n",
        "\n",
        "Les données sont issue de [cette base de données](https://cs.nyu.edu/~kcho/DMQA/).\n",
        "\n",
        "Maintenant que nos outils sont chargés, nous allons charger nos données.\n",
        "\n",
        "Cliquez sur le lien ci-dessous :\n",
        "\n",
        "https://drive.google.com/drive/folders/12OmusfAUOcoLOCwEc--nfkKQ5eEozU45?usp=sharing\n",
        "\n",
        "Cliquer droit sur le dossier data et appuyer sur ajouter à mon drive."
      ]
    },
    {
      "cell_type": "code",
      "metadata": {
        "id": "fzZiAVnSRB-u",
        "colab": {
          "base_uri": "https://localhost:8080/"
        },
        "outputId": "5ef4e25d-5674-41c4-fb89-70a1d43faeb6"
      },
      "source": [
        "from google.colab import drive\n",
        "drive.mount('/content/gdrive/')"
      ],
      "execution_count": 2,
      "outputs": [
        {
          "output_type": "stream",
          "name": "stdout",
          "text": [
            "Mounted at /content/gdrive/\n"
          ]
        }
      ]
    },
    {
      "cell_type": "markdown",
      "metadata": {
        "id": "8Njk5BWjZ4K4"
      },
      "source": [
        "Les données sont maintenant dans votre environnement collab."
      ]
    },
    {
      "cell_type": "code",
      "metadata": {
        "colab": {
          "base_uri": "https://localhost:8080/"
        },
        "id": "NGebIlFrZoVR",
        "outputId": "67b8ef9b-78f8-4c9e-a244-ae6a6b031dbb"
      },
      "source": [
        "import os\n",
        "print(os.listdir('gdrive/MyDrive/Colab_Notebooks/Partie_1')[:10])"
      ],
      "execution_count": 3,
      "outputs": [
        {
          "output_type": "stream",
          "name": "stdout",
          "text": [
            "['0a3ff2f0a147c158845afa44d2a012064896566b.story', '0a3fff5779a8f7cfdde5d284a429ab89fd5e85df.story', '0a0f56ebc5a0a67ed18de79d99b40a42d8058d04.story', '0a3ad75d92c5bc2eccf2763df86afe5ddeffed75.story', '0a3f2400ba4e5cdf4b3638ae6fb60fdfa12a2680.story', '0a3f567efff9f0748b2758c9e8c17dc66beade04.story', '0a05b14962b2e73bbff82086762e0e23d32b359f.story', '0a1ad82d161d90d758240407cb8c8fcebff4a212.story', '0a4ec4d37683347ca62b53982d2c5f4efb86f444.story', '0a4b2d4ea5fb0625e3e747525062f0a85345e4df.story']\n"
          ]
        }
      ]
    },
    {
      "cell_type": "markdown",
      "metadata": {
        "id": "rrHBJQqyeTzY"
      },
      "source": [
        "## Création de la base de données\n"
      ]
    },
    {
      "cell_type": "code",
      "source": [
        "import os\n",
        "import string\n",
        "\n",
        "# Dossier contenant les fichiers\n",
        "dossier = 'gdrive/MyDrive/Colab_Notebooks/Partie_1'\n",
        "\n",
        "# Fonction pour extraire les mots d'un fichier texte\n",
        "def extraire_mots(fichier):\n",
        "    try:\n",
        "        with open(fichier, 'r', encoding='utf-8') as f:\n",
        "            contenu = f.read()\n",
        "        # Retirer les ponctuations et convertir en minuscules\n",
        "        table = str.maketrans('', '', string.punctuation)\n",
        "        mots = contenu.translate(table).lower().split()\n",
        "        return mots\n",
        "    except Exception as e:\n",
        "        print(f\"Erreur lors de la lecture du fichier {fichier}: {e}\")\n",
        "        return []\n",
        "\n",
        "# Liste des fichiers dans le dossier\n",
        "fichiers = os.listdir(dossier)\n",
        "\n",
        "# Base de données de mots\n",
        "base_de_donnees = {}\n",
        "\n",
        "# Parcourir tous les fichiers du dossier\n",
        "for fichier in fichiers:\n",
        "    chemin_fichier = os.path.join(dossier, fichier)\n",
        "    if os.path.isfile(chemin_fichier):  # Vérifie que c'est un fichier\n",
        "        mots = extraire_mots(chemin_fichier)\n",
        "        for mot in mots:\n",
        "            if mot in base_de_donnees:\n",
        "                base_de_donnees[mot] += 1\n",
        "            else:\n",
        "                base_de_donnees[mot] = 1\n",
        "\n",
        "# Affichage des 10 premiers mots et leur fréquence\n",
        "for mot, freq in list(base_de_donnees.items())[:10]:\n",
        "    print(f\"{mot}: {freq}\")\n",
        "\n",
        "# Enregistrer la base de données dans un fichier texte\n",
        "with open('base_de_donnees_mots.txt', 'w', encoding='utf-8') as f:\n",
        "    for mot, freq in sorted(base_de_donnees.items()):\n",
        "        f.write(f\"{mot}: {freq}\\n\")\n",
        "\n",
        "print(\"Base de données de mots créée et enregistrée dans 'base_de_donnees_mots.txt'\")\n"
      ],
      "metadata": {
        "id": "pfzajV7svIVC",
        "outputId": "616dfe20-51f8-4305-9999-bb83df5c898e",
        "colab": {
          "base_uri": "https://localhost:8080/"
        }
      },
      "execution_count": 7,
      "outputs": [
        {
          "output_type": "stream",
          "name": "stdout",
          "text": [
            "Base de données de mots créée et enregistrée dans 'base_de_donnees_mots.txt'\n"
          ]
        }
      ]
    },
    {
      "cell_type": "markdown",
      "metadata": {
        "id": "zblR3PUulPJH"
      },
      "source": [
        "## En minuscule"
      ]
    },
    {
      "cell_type": "code",
      "source": [
        "# Nom du fichier à traiter\n",
        "fichier_source = 'base_de_donnees_mots.txt'\n",
        "fichier_destination = 'base_de_donnees_mots_minuscule.txt'\n",
        "\n",
        "# Lire le fichier source\n",
        "with open(fichier_source, 'r', encoding='utf-8') as f:\n",
        "    lignes = f.readlines()\n",
        "\n",
        "# Convertir chaque mot en minuscule\n",
        "lignes_minuscule = [ligne.lower() for ligne in lignes]\n",
        "\n",
        "# Écrire dans le fichier de destination\n",
        "with open(fichier_destination, 'w', encoding='utf-8') as f:\n",
        "    f.writelines(lignes_minuscule)\n",
        "\n",
        "print(f\"Tous les mots ont été convertis en minuscules et enregistrés dans '{fichier_destination}'\")\n"
      ],
      "metadata": {
        "id": "Uht5HLtGvxIu",
        "outputId": "6a722665-cc6b-43e2-8900-9790ef96131c",
        "colab": {
          "base_uri": "https://localhost:8080/"
        }
      },
      "execution_count": 13,
      "outputs": [
        {
          "output_type": "stream",
          "name": "stdout",
          "text": [
            "Tous les mots ont été convertis en minuscules et enregistrés dans 'base_de_donnees_mots_minuscule.txt'\n"
          ]
        }
      ]
    },
    {
      "cell_type": "markdown",
      "metadata": {
        "id": "PnADqXpAeW5R"
      },
      "source": [
        "## Tokenization"
      ]
    },
    {
      "cell_type": "code",
      "source": [
        "import re\n",
        "\n",
        "try:\n",
        "    with open(fichier_destination, 'r', encoding='utf-8') as f:\n",
        "        contenu = f.read()\n",
        "\n",
        "    # Tokenisation : extraire uniquement les mots avec une expression régulière\n",
        "    tokens = re.findall(r'\\b\\w+\\b', contenu.lower())  # Utilise .lower() pour uniformiser en minuscules\n",
        "\n",
        "    # Afficher les 10 premiers tokens\n",
        "    print(\"Les 10 premiers tokens sont :\")\n",
        "    print(tokens[:10])\n",
        "\n",
        "    # Optionnel : Enregistrer les tokens dans un fichier\n",
        "    with open('tokens_base_de_donnees.txt', 'w', encoding='utf-8') as f:\n",
        "        for token in tokens:\n",
        "            f.write(token + '\\n')\n",
        "\n",
        "    print(\"Les tokens ont été enregistrés dans 'tokens_base_de_donnees.txt'.\")\n",
        "\n",
        "except FileNotFoundError:\n",
        "    print(f\"Le fichier '{fichier_destination}' n'existe pas.\")\n",
        "except Exception as e:\n",
        "    print(f\"Une erreur s'est produite : {e}\")\n",
        "    # Compter le nombre de mots dans la liste\n",
        "nombre_de_mots = len(tokens_stemmes)\n",
        "\n",
        "# Afficher le résultat\n",
        "print(f\"La liste contient {nombre_de_mots} mots.\")"
      ],
      "metadata": {
        "id": "leObcMQty-pe",
        "outputId": "6562f7c3-56e2-4ead-f68a-d0ffa3acaf3f",
        "colab": {
          "base_uri": "https://localhost:8080/"
        }
      },
      "execution_count": 27,
      "outputs": [
        {
          "output_type": "stream",
          "name": "stdout",
          "text": [
            "Les 10 premiers tokens sont :\n",
            "['0', '1', '1', '15', '10', '13', '100', '10', '1000', '1']\n",
            "Les tokens ont été enregistrés dans 'tokens_base_de_donnees.txt'.\n",
            "La liste contient 6423 mots.\n"
          ]
        }
      ]
    },
    {
      "cell_type": "markdown",
      "metadata": {
        "id": "ICzt3a3ZeaPE"
      },
      "source": [
        "## Visualization du vocabulaire"
      ]
    },
    {
      "cell_type": "code",
      "source": [
        "import matplotlib.pyplot as plt\n",
        "from collections import Counter\n",
        "import re\n",
        "\n",
        "# Nom du fichier contenant les tokens\n",
        "fichier_tokens = 'tokens_base_de_donnees.txt'\n",
        "\n",
        "try:\n",
        "    # Lire les tokens depuis le fichier\n",
        "    with open(fichier_tokens, 'r', encoding='utf-8') as f:\n",
        "        tokens = f.read().splitlines()\n",
        "\n",
        "    # Compter la fréquence des tokens\n",
        "    token_freq = Counter(tokens)\n",
        "\n",
        "    # Trier par ordre décroissant\n",
        "    vocabulaire_trie = token_freq.most_common()\n",
        "\n",
        "    # Extraire les mots et leurs fréquences pour le graphique\n",
        "    mots, frequences = zip(*vocabulaire_trie[:20])  # Top 20 tokens pour un affichage clair\n",
        "\n",
        "    # Création du barplot\n",
        "    plt.figure(figsize=(10, 6))\n",
        "    plt.bar(mots, frequences)\n",
        "    plt.xlabel(\"Mots\", fontsize=12)\n",
        "    plt.ylabel(\"Fréquence\", fontsize=12)\n",
        "    plt.title(\"Fréquence des mots (Top 20)\", fontsize=14)\n",
        "    plt.xticks(rotation=45, ha='right', fontsize=10)\n",
        "    plt.tight_layout()\n",
        "    plt.show()\n",
        "\n",
        "except FileNotFoundError:\n",
        "    print(f\"Le fichier '{fichier_tokens}' n'existe pas.\")\n",
        "except Exception as e:\n",
        "    print(f\"Une erreur s'est produite : {e}\")\n"
      ],
      "metadata": {
        "id": "NPDRRfGp0JkQ",
        "outputId": "ae4a2d28-c78b-465b-cb0e-e696d0aa97d2",
        "colab": {
          "base_uri": "https://localhost:8080/",
          "height": 607
        }
      },
      "execution_count": 20,
      "outputs": [
        {
          "output_type": "display_data",
          "data": {
            "text/plain": [
              "<Figure size 1000x600 with 1 Axes>"
            ],
            "image/png": "[encoded data removed]"
          },
          "metadata": {}
        }
      ]
    },
    {
      "cell_type": "markdown",
      "metadata": {
        "id": "O5qb72hYhk6W"
      },
      "source": [
        "## Les stopwords"
      ]
    },
    {
      "cell_type": "code",
      "source": [
        "from nltk.corpus import stopwords\n",
        "import re\n",
        "\n",
        "# Assurez-vous de télécharger les stop words (si nécessaire)\n",
        "# import nltk\n",
        "# nltk.download('stopwords')\n",
        "\n",
        "# Liste des stop words en français\n",
        "stop_words = set(stopwords.words('english'))\n",
        "\n",
        "# Suppression des stop words et des chiffres\n",
        "tokens_sans_stopwords_et_chiffres = [\n",
        "    token for token in tokens\n",
        "    if token not in stop_words and not re.match(r'^\\d+$', token)\n",
        "]\n",
        "\n",
        "# Vérification\n",
        "print(\"Tokens après suppression des stop words et des chiffres (10 premiers) :\")\n",
        "print(tokens_sans_stopwords_et_chiffres[:10])\n",
        "# Compter le nombre de mots dans la liste\n",
        "nombre_de_mots = len(tokens_sans_stopwords_et_chiffres)\n",
        "\n",
        "# Afficher le résultat\n",
        "print(f\"La liste contient {nombre_de_mots} mots.\")\n"
      ],
      "metadata": {
        "id": "2HiNLU8H004-",
        "outputId": "49bcceec-3bba-42cc-999d-3aad4ccb0cad",
        "colab": {
          "base_uri": "https://localhost:8080/"
        }
      },
      "execution_count": 31,
      "outputs": [
        {
          "output_type": "stream",
          "name": "stdout",
          "text": [
            "Tokens après suppression des stop words et des chiffres (10 premiers) :\n",
            "['100yard', '10day', '11yard', '12yearold', '13day', '13th', '13yearolds', '14410foot', '14for27', '16hour']\n",
            "La liste contient 6423 mots.\n"
          ]
        }
      ]
    },
    {
      "cell_type": "markdown",
      "metadata": {
        "id": "R4yKIhidisOA"
      },
      "source": [
        "## Stemming"
      ]
    },
    {
      "cell_type": "code",
      "source": [
        "from nltk.stem.snowball import SnowballStemmer\n",
        "\n",
        "# Choisissez la langue pour le stemming (par exemple, 'french')\n",
        "stemmer = SnowballStemmer(\"english\")\n",
        "\n",
        "# Appliquer le stemming à la liste après suppression des stop words et chiffres\n",
        "tokens_stemmes_apres_filtrage = [stemmer.stem(token) for token in tokens_sans_stopwords_et_chiffres]\n",
        "\n",
        "# Afficher les 10 premiers tokens après stemming\n",
        "print(\"Tokens après suppression des stop words, chiffres et application du stemming (10 premiers) :\")\n",
        "print(tokens_stemmes_apres_filtrage[:10])\n",
        "\n",
        "# Compter le nombre total de mots après stemming\n",
        "nombre_de_mots_apres_stemming = len(tokens_stemmes_apres_filtrage)\n",
        "print(f\"La liste après stemming contient {nombre_de_mots_apres_stemming} mots.\")\n",
        "\n"
      ],
      "metadata": {
        "id": "4hsyp2vF1sV1",
        "outputId": "1861c97a-0134-459b-ea73-df80a3fee329",
        "colab": {
          "base_uri": "https://localhost:8080/"
        }
      },
      "execution_count": 33,
      "outputs": [
        {
          "output_type": "stream",
          "name": "stdout",
          "text": [
            "Tokens après suppression des stop words, chiffres et application du stemming (10 premiers) :\n",
            "['100yard', '10day', '11yard', '12yearold', '13day', '13th', '13yearold', '14410foot', '14for27', '16hour']\n",
            "La liste après stemming contient 6423 mots.\n"
          ]
        }
      ]
    },
    {
      "cell_type": "markdown",
      "metadata": {
        "id": "WofRCuC7mOU_"
      },
      "source": [
        "## Lemmatization"
      ]
    },
    {
      "cell_type": "code",
      "source": [
        "from nltk.stem import WordNetLemmatizer\n",
        "import nltk\n",
        "\n",
        "# Télécharger les données nécessaires pour lemmatizer si non déjà fait\n",
        "# nltk.download('wordnet')\n",
        "# nltk.download('omw-1.4')\n",
        "\n",
        "# Initialiser le lemmatizer\n",
        "lemmatizer = WordNetLemmatizer()\n",
        "\n",
        "# Appliquer la lemmatisation à chaque token\n",
        "tokens_lemmatizes = [lemmatizer.lemmatize(token) for token in tokens_sans_stopwords_et_chiffres]\n",
        "\n",
        "# Afficher les 10 premiers tokens après lemmatisation\n",
        "print(\"Tokens après suppression des stop words, chiffres et application de la lemmatisation (10 premiers) :\")\n",
        "print(tokens_lemmatizes[:10])\n",
        "\n",
        "# Compter le nombre total de mots après lemmatisation\n",
        "nombre_de_mots_apres_lemmatisation = len(tokens_lemmatizes)\n",
        "print(f\"La liste après lemmatisation contient {nombre_de_mots_apres_lemmatisation} mots.\")\n"
      ],
      "metadata": {
        "id": "pM212tV44bKV",
        "outputId": "da457312-66ff-44cd-9011-424121828cc6",
        "colab": {
          "base_uri": "https://localhost:8080/"
        }
      },
      "execution_count": 35,
      "outputs": [
        {
          "output_type": "stream",
          "name": "stdout",
          "text": [
            "Tokens après suppression des stop words, chiffres et application de la lemmatisation (10 premiers) :\n",
            "['100yard', '10day', '11yard', '12yearold', '13day', '13th', '13yearolds', '14410foot', '14for27', '16hour']\n",
            "La liste après lemmatisation contient 6423 mots.\n"
          ]
        }
      ]
    },
    {
      "cell_type": "markdown",
      "metadata": {
        "id": "4IBUmVP2pKbu"
      },
      "source": [
        "# Partie II - Détecter le language du texte grâce au stopwords"
      ]
    },
    {
      "cell_type": "markdown",
      "metadata": {
        "id": "8sqxiGxip10r"
      },
      "source": [
        "Les stopwords sont les mots les plus utilisés dans un texte grâce à eux essayé de prédire la langue du texte.\n",
        "\n",
        "Prédire pour cinq languages :\n",
        "- Français ;\n",
        "- Anglais ;\n",
        "- Espagnol ;\n",
        "- Italien ;\n",
        "- Russe.\n",
        "\n",
        "Vérifier le nombre de stopwords de chaque langue dans un texte. La langue prédit sera celle avec le plus de stopwords.\n",
        "\n",
        "Vous pourrez trouver de l'aide via ce [lien](https://www.nltk.org/book/ch02.html).\n"
      ]
    },
    {
      "cell_type": "markdown",
      "metadata": {
        "id": "eVR9MFaKyvhv"
      },
      "source": [
        "## Importation des données"
      ]
    },
    {
      "cell_type": "markdown",
      "metadata": {
        "id": "q87Gv3zj-cpm"
      },
      "source": [
        "Les données proviennent de ce [jeux de données](https://zenodo.org/record/841984#.X_Jb2ulKjBI)."
      ]
    },
    {
      "cell_type": "code",
      "metadata": {
        "colab": {
          "base_uri": "https://localhost:8080/"
        },
        "id": "WNiV9Sll-CrM",
        "outputId": "0b9ec771-8040-41bf-ba57-12e123bf399b"
      },
      "source": [
        "x_text = pd.read_csv('gdrive/MyDrive/Colab_Notebooks/Partie_2/x_text.csv')\n",
        "y_text = pd.read_csv('gdrive/MyDrive/Colab_Notebooks/Partie_2/y_text.csv')\n",
        "print(x_text.shape)\n",
        "print(y_text.shape)"
      ],
      "execution_count": 40,
      "outputs": [
        {
          "output_type": "stream",
          "name": "stdout",
          "text": [
            "(2500, 1)\n",
            "(2500, 1)\n"
          ]
        }
      ]
    },
    {
      "cell_type": "code",
      "metadata": {
        "colab": {
          "base_uri": "https://localhost:8080/",
          "height": 206
        },
        "id": "EiKZbvHN-yvP",
        "outputId": "2dea6d27-d92d-4769-f47a-2f9507e2d283"
      },
      "source": [
        "x_text.head()"
      ],
      "execution_count": 37,
      "outputs": [
        {
          "output_type": "execute_result",
          "data": {
            "text/plain": [
              "                                                text\n",
              "0  16 апреля 2009 года в Шатойском районе произош...\n",
              "1  La ciudad de San Cristóbal es sede del Hospita...\n",
              "2  Les supporters de l'ASM Clermont Auvergne ont ...\n",
              "3  Anton (or Antonius) Maria Schyrleus (also Schy...\n",
              "4  Ralph Staub est un réalisateur, producteur, sc..."
            ],
            "text/html": [
              "\n",
              "  <div id=\"df-eda58cbf-8ebd-4cc3-8cde-c57f703678ec\" class=\"colab-df-container\">\n",
              "    <div>\n",
              "<style scoped>\n",
              "    .dataframe tbody tr th:only-of-type {\n",
              "        vertical-align: middle;\n",
              "    }\n",
              "\n",
              "    .dataframe tbody tr th {\n",
              "        vertical-align: top;\n",
              "    }\n",
              "\n",
              "    .dataframe thead th {\n",
              "        text-align: right;\n",
              "    }\n",
              "</style>\n",
              "<table border=\"1\" class=\"dataframe\">\n",
              "  <thead>\n",
              "    <tr style=\"text-align: right;\">\n",
              "      <th></th>\n",
              "      <th>text</th>\n",
              "    </tr>\n",
              "  </thead>\n",
              "  <tbody>\n",
              "    <tr>\n",
              "      <th>0</th>\n",
              "      <td>16 апреля 2009 года в Шатойском районе произош...</td>\n",
              "    </tr>\n",
              "    <tr>\n",
              "      <th>1</th>\n",
              "      <td>La ciudad de San Cristóbal es sede del Hospita...</td>\n",
              "    </tr>\n",
              "    <tr>\n",
              "      <th>2</th>\n",
              "      <td>Les supporters de l'ASM Clermont Auvergne ont ...</td>\n",
              "    </tr>\n",
              "    <tr>\n",
              "      <th>3</th>\n",
              "      <td>Anton (or Antonius) Maria Schyrleus (also Schy...</td>\n",
              "    </tr>\n",
              "    <tr>\n",
              "      <th>4</th>\n",
              "      <td>Ralph Staub est un réalisateur, producteur, sc...</td>\n",
              "    </tr>\n",
              "  </tbody>\n",
              "</table>\n",
              "</div>\n",
              "    <div class=\"colab-df-buttons\">\n",
              "\n",
              "  <div class=\"colab-df-container\">\n",
              "    <button class=\"colab-df-convert\" onclick=\"convertToInteractive('df-eda58cbf-8ebd-4cc3-8cde-c57f703678ec')\"\n",
              "            title=\"Convert this dataframe to an interactive table.\"\n",
              "            style=\"display:none;\">\n",
              "\n",
              "  <svg xmlns=\"http://www.w3.org/2000/svg\" height=\"24px\" viewBox=\"0 -960 960 960\">\n",
              "    <path d=\"M120-120v-720h720v720H120Zm60-500h600v-160H180v160Zm220 220h160v-160H400v160Zm0 220h160v-160H400v160ZM180-400h160v-160H180v160Zm440 0h160v-160H620v160ZM180-180h160v-160H180v160Zm440 0h160v-160H620v160Z\"/>\n",
              "  </svg>\n",
              "    </button>\n",
              "\n",
              "  <style>\n",
              "    .colab-df-container {\n",
              "      display:flex;\n",
              "      gap: 12px;\n",
              "    }\n",
              "\n",
              "    .colab-df-convert {\n",
              "      background-color: #E8F0FE;\n",
              "      border: none;\n",
              "      border-radius: 50%;\n",
              "      cursor: pointer;\n",
              "      display: none;\n",
              "      fill: #1967D2;\n",
              "      height: 32px;\n",
              "      padding: 0 0 0 0;\n",
              "      width: 32px;\n",
              "    }\n",
              "\n",
              "    .colab-df-convert:hover {\n",
              "      background-color: #E2EBFA;\n",
              "      box-shadow: 0px 1px 2px rgba(60, 64, 67, 0.3), 0px 1px 3px 1px rgba(60, 64, 67, 0.15);\n",
              "      fill: #174EA6;\n",
              "    }\n",
              "\n",
              "    .colab-df-buttons div {\n",
              "      margin-bottom: 4px;\n",
              "    }\n",
              "\n",
              "    [theme=dark] .colab-df-convert {\n",
              "      background-color: #3B4455;\n",
              "      fill: #D2E3FC;\n",
              "    }\n",
              "\n",
              "    [theme=dark] .colab-df-convert:hover {\n",
              "      background-color: #434B5C;\n",
              "      box-shadow: 0px 1px 3px 1px rgba(0, 0, 0, 0.15);\n",
              "      filter: drop-shadow(0px 1px 2px rgba(0, 0, 0, 0.3));\n",
              "      fill: #FFFFFF;\n",
              "    }\n",
              "  </style>\n",
              "\n",
              "    <script>\n",
              "      const buttonEl =\n",
              "        document.querySelector('#df-eda58cbf-8ebd-4cc3-8cde-c57f703678ec button.colab-df-convert');\n",
              "      buttonEl.style.display =\n",
              "        google.colab.kernel.accessAllowed ? 'block' : 'none';\n",
              "\n",
              "      async function convertToInteractive(key) {\n",
              "        const element = document.querySelector('#df-eda58cbf-8ebd-4cc3-8cde-c57f703678ec');\n",
              "        const dataTable =\n",
              "          await google.colab.kernel.invokeFunction('convertToInteractive',\n",
              "                                                    [key], {});\n",
              "        if (!dataTable) return;\n",
              "\n",
              "        const docLinkHtml = 'Like what you see? Visit the ' +\n",
              "          '<a target=\"_blank\" href=https://colab.research.google.com/notebooks/data_table.ipynb>data table notebook</a>'\n",
              "          + ' to learn more about interactive tables.';\n",
              "        element.innerHTML = '';\n",
              "        dataTable['output_type'] = 'display_data';\n",
              "        await google.colab.output.renderOutput(dataTable, element);\n",
              "        const docLink = document.createElement('div');\n",
              "        docLink.innerHTML = docLinkHtml;\n",
              "        element.appendChild(docLink);\n",
              "      }\n",
              "    </script>\n",
              "  </div>\n",
              "\n",
              "\n",
              "<div id=\"df-494408c0-1c03-4dec-9eb0-0eaccec38a77\">\n",
              "  <button class=\"colab-df-quickchart\" onclick=\"quickchart('df-494408c0-1c03-4dec-9eb0-0eaccec38a77')\"\n",
              "            title=\"Suggest charts\"\n",
              "            style=\"display:none;\">\n",
              "\n",
              "<svg xmlns=\"http://www.w3.org/2000/svg\" height=\"24px\"viewBox=\"0 0 24 24\"\n",
              "     width=\"24px\">\n",
              "    <g>\n",
              "        <path d=\"M19 3H5c-1.1 0-2 .9-2 2v14c0 1.1.9 2 2 2h14c1.1 0 2-.9 2-2V5c0-1.1-.9-2-2-2zM9 17H7v-7h2v7zm4 0h-2V7h2v10zm4 0h-2v-4h2v4z\"/>\n",
              "    </g>\n",
              "</svg>\n",
              "  </button>\n",
              "\n",
              "<style>\n",
              "  .colab-df-quickchart {\n",
              "      --bg-color: #E8F0FE;\n",
              "      --fill-color: #1967D2;\n",
              "      --hover-bg-color: #E2EBFA;\n",
              "      --hover-fill-color: #174EA6;\n",
              "      --disabled-fill-color: #AAA;\n",
              "      --disabled-bg-color: #DDD;\n",
              "  }\n",
              "\n",
              "  [theme=dark] .colab-df-quickchart {\n",
              "      --bg-color: #3B4455;\n",
              "      --fill-color: #D2E3FC;\n",
              "      --hover-bg-color: #434B5C;\n",
              "      --hover-fill-color: #FFFFFF;\n",
              "      --disabled-bg-color: #3B4455;\n",
              "      --disabled-fill-color: #666;\n",
              "  }\n",
              "\n",
              "  .colab-df-quickchart {\n",
              "    background-color: var(--bg-color);\n",
              "    border: none;\n",
              "    border-radius: 50%;\n",
              "    cursor: pointer;\n",
              "    display: none;\n",
              "    fill: var(--fill-color);\n",
              "    height: 32px;\n",
              "    padding: 0;\n",
              "    width: 32px;\n",
              "  }\n",
              "\n",
              "  .colab-df-quickchart:hover {\n",
              "    background-color: var(--hover-bg-color);\n",
              "    box-shadow: 0 1px 2px rgba(60, 64, 67, 0.3), 0 1px 3px 1px rgba(60, 64, 67, 0.15);\n",
              "    fill: var(--button-hover-fill-color);\n",
              "  }\n",
              "\n",
              "  .colab-df-quickchart-complete:disabled,\n",
              "  .colab-df-quickchart-complete:disabled:hover {\n",
              "    background-color: var(--disabled-bg-color);\n",
              "    fill: var(--disabled-fill-color);\n",
              "    box-shadow: none;\n",
              "  }\n",
              "\n",
              "  .colab-df-spinner {\n",
              "    border: 2px solid var(--fill-color);\n",
              "    border-color: transparent;\n",
              "    border-bottom-color: var(--fill-color);\n",
              "    animation:\n",
              "      spin 1s steps(1) infinite;\n",
              "  }\n",
              "\n",
              "  @keyframes spin {\n",
              "    0% {\n",
              "      border-color: transparent;\n",
              "      border-bottom-color: var(--fill-color);\n",
              "      border-left-color: var(--fill-color);\n",
              "    }\n",
              "    20% {\n",
              "      border-color: transparent;\n",
              "      border-left-color: var(--fill-color);\n",
              "      border-top-color: var(--fill-color);\n",
              "    }\n",
              "    30% {\n",
              "      border-color: transparent;\n",
              "      border-left-color: var(--fill-color);\n",
              "      border-top-color: var(--fill-color);\n",
              "      border-right-color: var(--fill-color);\n",
              "    }\n",
              "    40% {\n",
              "      border-color: transparent;\n",
              "      border-right-color: var(--fill-color);\n",
              "      border-top-color: var(--fill-color);\n",
              "    }\n",
              "    60% {\n",
              "      border-color: transparent;\n",
              "      border-right-color: var(--fill-color);\n",
              "    }\n",
              "    80% {\n",
              "      border-color: transparent;\n",
              "      border-right-color: var(--fill-color);\n",
              "      border-bottom-color: var(--fill-color);\n",
              "    }\n",
              "    90% {\n",
              "      border-color: transparent;\n",
              "      border-bottom-color: var(--fill-color);\n",
              "    }\n",
              "  }\n",
              "</style>\n",
              "\n",
              "  <script>\n",
              "    async function quickchart(key) {\n",
              "      const quickchartButtonEl =\n",
              "        document.querySelector('#' + key + ' button');\n",
              "      quickchartButtonEl.disabled = true;  // To prevent multiple clicks.\n",
              "      quickchartButtonEl.classList.add('colab-df-spinner');\n",
              "      try {\n",
              "        const charts = await google.colab.kernel.invokeFunction(\n",
              "            'suggestCharts', [key], {});\n",
              "      } catch (error) {\n",
              "        console.error('Error during call to suggestCharts:', error);\n",
              "      }\n",
              "      quickchartButtonEl.classList.remove('colab-df-spinner');\n",
              "      quickchartButtonEl.classList.add('colab-df-quickchart-complete');\n",
              "    }\n",
              "    (() => {\n",
              "      let quickchartButtonEl =\n",
              "        document.querySelector('#df-494408c0-1c03-4dec-9eb0-0eaccec38a77 button');\n",
              "      quickchartButtonEl.style.display =\n",
              "        google.colab.kernel.accessAllowed ? 'block' : 'none';\n",
              "    })();\n",
              "  </script>\n",
              "</div>\n",
              "\n",
              "    </div>\n",
              "  </div>\n"
            ],
            "application/vnd.google.colaboratory.intrinsic+json": {
              "type": "dataframe",
              "variable_name": "x_text",
              "summary": "{\n  \"name\": \"x_text\",\n  \"rows\": 2500,\n  \"fields\": [\n    {\n      \"column\": \"text\",\n      \"properties\": {\n        \"dtype\": \"string\",\n        \"num_unique_values\": 2496,\n        \"samples\": [\n          \"\\u0412 1988 \\u0433\\u043e\\u0434\\u0443 \\u0420\\u0443\\u0441\\u0441\\u043a\\u0430\\u044f \\u043f\\u0440\\u0430\\u0432\\u043e\\u0441\\u043b\\u0430\\u0432\\u043d\\u0430\\u044f \\u0446\\u0435\\u0440\\u043a\\u043e\\u0432\\u044c \\u0438\\u043c\\u0435\\u043b\\u0430 \\u0443\\u0436\\u0435 8,5 \\u0442\\u044b\\u0441\\u044f\\u0447 \\u043f\\u0440\\u0438\\u0445\\u043e\\u0434\\u043e\\u0432 \\u0438 76 \\u0435\\u043f\\u0430\\u0440\\u0445\\u0438\\u0439 \\u043d\\u0430 \\u0442\\u0435\\u0440\\u0440\\u0438\\u0442\\u043e\\u0440\\u0438\\u0438 \\u0421\\u0421\\u0421\\u0420, \\u0430 \\u0442\\u0430\\u043a\\u0436\\u0435 120 \\u0437\\u0430\\u0440\\u0443\\u0431\\u0435\\u0436\\u043d\\u044b\\u0445 \\u043f\\u0440\\u0438\\u0445\\u043e\\u0434\\u043e\\u0432, \\u043e\\u0431\\u044a\\u0435\\u0434\\u0438\\u043d\\u0451\\u043d\\u043d\\u044b\\u0445 \\u0432 3 \\u0431\\u043b\\u0430\\u0433\\u043e\\u0447\\u0438\\u043d\\u0438\\u044f (\\u0424\\u0438\\u043d\\u043b\\u044f\\u043d\\u0434\\u0441\\u043a\\u043e\\u0435, \\u0412\\u0435\\u043d\\u0433\\u0435\\u0440\\u0441\\u043a\\u043e\\u0435, \\u041c\\u0435\\u043a\\u0441\\u0438\\u043a\\u0430\\u043d\\u0441\\u043a\\u043e\\u0435) \\u0438 3 \\u044d\\u043a\\u0437\\u0430\\u0440\\u0445\\u0430\\u0442\\u0430 (\\u0417\\u0430\\u043f\\u0430\\u0434\\u043d\\u043e\\u0435\\u0432\\u0440\\u043e\\u043f\\u0435\\u0439\\u0441\\u043a\\u0438\\u0439, \\u0421\\u0440\\u0435\\u0434\\u043d\\u0435\\u0435\\u0432\\u0440\\u043e\\u043f\\u0435\\u0439\\u0441\\u043a\\u0438\\u0439, \\u0426\\u0435\\u043d\\u0442\\u0440\\u0430\\u043b\\u044c\\u043d\\u043e- \\u0438 \\u042e\\u0436\\u043d\\u043e-\\u0410\\u043c\\u0435\\u0440\\u0438\\u043a\\u0430\\u043d\\u0441\\u043a\\u0438\\u0439), 20 \\u043c\\u043e\\u043d\\u0430\\u0441\\u0442\\u044b\\u0440\\u0435\\u0439, \\u0438\\u0437 \\u043a\\u043e\\u0442\\u043e\\u0440\\u044b\\u0445 \\u0434\\u0432\\u0430 \\u0437\\u0430\\u0440\\u0443\\u0431\\u0435\\u0436\\u043d\\u044b\\u0435: \\u043c\\u0443\\u0436\\u0441\\u043a\\u043e\\u0439 \\u041f\\u0430\\u043d\\u0442\\u0435\\u043b\\u0435\\u0438\\u043c\\u043e\\u043d\\u043e\\u0432 \\u043d\\u0430 \\u0410\\u0444\\u043e\\u043d\\u0435 (\\u044e\\u0440\\u0438\\u0441\\u0434\\u0438\\u043a\\u0446\\u0438\\u043e\\u043d\\u043d\\u043e \\u043d\\u0430\\u0445\\u043e\\u0434\\u044f\\u0449\\u0438\\u0439\\u0441\\u044f \\u0432 \\u0432\\u0435\\u0434\\u0435\\u043d\\u0438\\u0438 \\u0412\\u0441\\u0435\\u043b\\u0435\\u043d\\u0441\\u043a\\u043e\\u0433\\u043e \\u043f\\u0430\\u0442\\u0440\\u0438\\u0430\\u0440\\u0445\\u0430) \\u0438 \\u0436\\u0435\\u043d\\u0441\\u043a\\u0438\\u0439 \\u0413\\u043e\\u0440\\u043d\\u0435\\u043d\\u0441\\u043a\\u0438\\u0439 \\u0432\\u0431\\u043b\\u0438\\u0437\\u0438 \\u0418\\u0435\\u0440\\u0443\\u0441\\u0430\\u043b\\u0438\\u043c\\u0430.\",\n          \"At the same time, pupil behavior was becoming less inhibited, much to the distress of the adult population. Henry W. Foster, Superintendent of the District from 1900\\u20131927, described the conditions in 1913: \\\"Long before prohibition was adopted, venturesome boys were surreptitiously now and then bringing liquor to dances to add to the excitement. There was a decided reversion to animalistic excitement. Musical rhythm from the wilds of barbarism stirred the pulse. The dance abandoned the restraint and refinement of waltz and polka; Bunny Hug, Turkey Trot, Fox Trot, and Shimmey began to reign.\\\"\",\n          \"\\u041d\\u0430\\u0447\\u0438\\u043d\\u0430\\u044f \\u0441 1987 \\u0433\\u043e\\u0434\\u0430, \\u0432 \\u0440\\u0430\\u043c\\u043a\\u0430\\u0445 \\u043f\\u0440\\u043e\\u0432\\u043e\\u0434\\u0438\\u0432\\u0448\\u0435\\u0439\\u0441\\u044f \\u043f\\u0440\\u0438 \\u041c\\u0438\\u0445\\u0430\\u0438\\u043b\\u0435 \\u0413\\u043e\\u0440\\u0431\\u0430\\u0447\\u0451\\u0432\\u0435 \\u043f\\u043e\\u043b\\u0438\\u0442\\u0438\\u043a\\u0438 \\u0433\\u043b\\u0430\\u0441\\u043d\\u043e\\u0441\\u0442\\u0438 \\u0438 \\u043f\\u0435\\u0440\\u0435\\u0441\\u0442\\u0440\\u043e\\u0439\\u043a\\u0438, \\u043d\\u0430\\u0447\\u0430\\u043b\\u0441\\u044f \\u043f\\u043e\\u0441\\u0442\\u0435\\u043f\\u0435\\u043d\\u043d\\u044b\\u0439 \\u043f\\u0440\\u043e\\u0446\\u0435\\u0441\\u0441 \\u043f\\u0435\\u0440\\u0435\\u0434\\u0430\\u0447\\u0438 \\u0432 \\u043f\\u043e\\u043b\\u044c\\u0437\\u043e\\u0432\\u0430\\u043d\\u0438\\u0435 \\u041f\\u0430\\u0442\\u0440\\u0438\\u0430\\u0440\\u0445\\u0438\\u0438, \\u0435\\u043f\\u0430\\u0440\\u0445\\u0438\\u0439 \\u0438 \\u043e\\u0431\\u0449\\u0438\\u043d \\u0432\\u0435\\u0440\\u0443\\u044e\\u0449\\u0438\\u0445 \\u0437\\u0434\\u0430\\u043d\\u0438\\u0439 \\u0438 \\u0438\\u043c\\u0443\\u0449\\u0435\\u0441\\u0442\\u0432\\u0430, \\u0440\\u0430\\u043d\\u0435\\u0435 \\u043d\\u0430\\u0445\\u043e\\u0434\\u0438\\u0432\\u0448\\u0438\\u0445\\u0441\\u044f \\u0432 \\u0446\\u0435\\u0440\\u043a\\u043e\\u0432\\u043d\\u043e\\u043c \\u0432\\u0435\\u0434\\u0435\\u043d\\u0438\\u0438, \\u043f\\u0440\\u043e\\u0438\\u0441\\u0445\\u043e\\u0434\\u0438\\u043b\\u0430 \\u043b\\u0438\\u0431\\u0435\\u0440\\u0430\\u043b\\u0438\\u0437\\u0430\\u0446\\u0438\\u044f \\u0440\\u0435\\u0436\\u0438\\u043c\\u0430 \\u043a\\u043e\\u043d\\u0442\\u0440\\u043e\\u043b\\u044f \\u043d\\u0430\\u0434 \\u0440\\u0435\\u043b\\u0438\\u0433\\u0438\\u043e\\u0437\\u043d\\u043e\\u0439 \\u0436\\u0438\\u0437\\u043d\\u044c\\u044e \\u0438 \\u043e\\u0442\\u043c\\u0435\\u043d\\u0430 \\u043e\\u0433\\u0440\\u0430\\u043d\\u0438\\u0447\\u0435\\u043d\\u0438\\u0439 \\u0434\\u0435\\u044f\\u0442\\u0435\\u043b\\u044c\\u043d\\u043e\\u0441\\u0442\\u0438 \\u0440\\u0435\\u043b\\u0438\\u0433\\u0438\\u043e\\u0437\\u043d\\u044b\\u0445 \\u043e\\u0431\\u044a\\u0435\\u0434\\u0438\\u043d\\u0435\\u043d\\u0438\\u0439. \\u0412\\u0430\\u0436\\u043d\\u043e\\u0439 \\u0432\\u0435\\u0445\\u043e\\u0439 \\u044f\\u0432\\u0438\\u043b\\u0441\\u044f 1988 \\u0433\\u043e\\u0434 \\u2014 \\u0433\\u043e\\u0434 \\u043f\\u0440\\u0430\\u0437\\u0434\\u043d\\u043e\\u0432\\u0430\\u043d\\u0438\\u044f \\u0442\\u044b\\u0441\\u044f\\u0447\\u0435\\u043b\\u0435\\u0442\\u0438\\u044f \\u041a\\u0440\\u0435\\u0449\\u0435\\u043d\\u0438\\u044f \\u0420\\u0443\\u0441\\u0438 \\u0438 \\u043f\\u0440\\u043e\\u0432\\u0435\\u0434\\u0435\\u043d\\u0438\\u044f \\u044e\\u0431\\u0438\\u043b\\u0435\\u0439\\u043d\\u043e\\u0433\\u043e \\u043f\\u043e\\u043c\\u0435\\u0441\\u0442\\u043d\\u043e\\u0433\\u043e \\u0441\\u043e\\u0431\\u043e\\u0440\\u0430 \\u0420\\u041f\\u0426. \\u0411\\u044b\\u043b \\u0441\\u043d\\u044f\\u0442 \\u0437\\u0430\\u043f\\u0440\\u0435\\u0442 \\u043d\\u0430 \\u043e\\u0441\\u0432\\u0435\\u0449\\u0435\\u043d\\u0438\\u0435 \\u0440\\u0435\\u043b\\u0438\\u0433\\u0438\\u043e\\u0437\\u043d\\u043e\\u0439 \\u0436\\u0438\\u0437\\u043d\\u0438 \\u0432 \\u0421\\u0421\\u0421\\u0420 \\u043f\\u043e \\u0442\\u0435\\u043b\\u0435\\u0432\\u0438\\u0434\\u0435\\u043d\\u0438\\u044e \\u2014 \\u0432\\u043f\\u0435\\u0440\\u0432\\u044b\\u0435 \\u0432 \\u0438\\u0441\\u0442\\u043e\\u0440\\u0438\\u0438 \\u0421\\u043e\\u0432\\u0435\\u0442\\u0441\\u043a\\u043e\\u0433\\u043e \\u0421\\u043e\\u044e\\u0437\\u0430 \\u043b\\u044e\\u0434\\u0438 \\u0441\\u043c\\u043e\\u0433\\u043b\\u0438 \\u0432\\u0438\\u0434\\u0435\\u0442\\u044c \\u043f\\u0440\\u044f\\u043c\\u044b\\u0435 \\u0442\\u0440\\u0430\\u043d\\u0441\\u043b\\u044f\\u0446\\u0438\\u0438 \\u0431\\u043e\\u0433\\u043e\\u0441\\u043b\\u0443\\u0436\\u0435\\u043d\\u0438\\u0439 \\u043f\\u043e \\u0442\\u0435\\u043b\\u0435\\u0432\\u0438\\u0437\\u043e\\u0440\\u0443.\"\n        ],\n        \"semantic_type\": \"\",\n        \"description\": \"\"\n      }\n    }\n  ]\n}"
            }
          },
          "metadata": {},
          "execution_count": 37
        }
      ]
    },
    {
      "cell_type": "code",
      "metadata": {
        "colab": {
          "base_uri": "https://localhost:8080/"
        },
        "id": "qu0hSDfD-1K-",
        "outputId": "ebbfef92-1982-4b35-8af7-956bafc2c702"
      },
      "source": [
        "lang = np.unique(y_text)\n",
        "print(lang)"
      ],
      "execution_count": 38,
      "outputs": [
        {
          "output_type": "stream",
          "name": "stdout",
          "text": [
            "['english' 'french' 'italian' 'russian' 'spanish']\n"
          ]
        }
      ]
    }
  ]
}